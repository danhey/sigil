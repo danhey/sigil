{
 "cells": [
  {
   "cell_type": "code",
   "execution_count": 166,
   "id": "0108da6c-7dd7-4824-b706-bcde3471d41c",
   "metadata": {},
   "outputs": [],
   "source": [
    "from astroquery.mast import Observations\n",
    "from astroquery.exceptions import ResolverError, NoResultsWarning\n",
    "import re\n",
    "import numpy as np\n",
    "\n",
    "def search_lightcurve(target, mission=(\"Kepler\", \"K2\", \"TESS\"), exptime=None, limit=None, **extra_query_criteria):\n",
    "    \n",
    "    query_criteria = {\"project\": mission, **extra_query_criteria}\n",
    "    \n",
    "    if exptime is not None:\n",
    "        query_criteria['t_exptime'] = [exptime, exptime]\n",
    "    query_criteria[\"dataproduct_type\"] = [\"timeseries\"]\n",
    "    \n",
    "    obs = Observations.query_criteria(\n",
    "                target_name=parse_target_name(target), **query_criteria\n",
    "            )\n",
    "    \n",
    "    products = Observations.get_product_list(obs)\n",
    "    \n",
    "    return _filter_products(products)\n",
    "\n",
    "def parse_target_name(target):\n",
    "    target_lower = str(target).lower()\n",
    "    kplr_match = re.match(\"^(kplr|kic) ?(\\d+)$\", target_lower)\n",
    "    if kplr_match:\n",
    "        exact_target_name = f\"kplr{kplr_match.group(2).zfill(9)}\"\n",
    "    ktwo_match = re.match(\"^(ktwo|epic) ?(\\d+)$\", target_lower)\n",
    "    if ktwo_match:\n",
    "        exact_target_name = f\"ktwo{ktwo_match.group(2).zfill(9)}\"\n",
    "    tess_match = re.match(\"^(tess|tic) ?(\\d+)$\", target_lower)\n",
    "    if tess_match:\n",
    "        exact_target_name = f\"{tess_match.group(2).zfill(9)}\"\n",
    "        \n",
    "    return exact_target_name\n",
    "\n",
    "def _filter_products(\n",
    "    products,\n",
    "    campaign=None,\n",
    "    quarter=None,\n",
    "    month=None,\n",
    "    sector=None,\n",
    "    exptime=None,\n",
    "    limit=None,\n",
    "    project=(\"Kepler\", \"K2\", \"TESS\"),\n",
    "    provenance_name=None,\n",
    "    filetype=\"Lightcurve\",\n",
    "):\n",
    "    mask = np.ones(len(products), dtype=bool)\n",
    "\n",
    "    # HLSP products need to be filtered by extension\n",
    "    mask &= np.array(\n",
    "        [uri.lower().endswith(\"lc.fits\") for uri in products[\"productFilename\"]]\n",
    "    )\n",
    "\n",
    "    # Allow only fits files\n",
    "    mask &= np.array(\n",
    "        [\n",
    "            uri.lower().endswith(\"fits\") or uri.lower().endswith(\"fits.gz\")\n",
    "            for uri in products[\"productFilename\"]\n",
    "        ]\n",
    "    )\n",
    "\n",
    "    products = products[mask]\n",
    "    return products\n",
    "\n",
    "\n",
    "class SearchResult:\n",
    "    def __init__(self, table):\n",
    "        self.table = table\n",
    "        "
   ]
  },
  {
   "cell_type": "code",
   "execution_count": null,
   "id": "5612ce78-0596-42a3-9909-002c71b22f91",
   "metadata": {},
   "outputs": [],
   "source": []
  },
  {
   "cell_type": "code",
   "execution_count": 170,
   "id": "62473113-9adb-4cd6-9a61-c73edeedc5cc",
   "metadata": {},
   "outputs": [
    {
     "name": "stdout",
     "output_type": "stream",
     "text": [
      "401 ms ± 11.3 ms per loop (mean ± std. dev. of 7 runs, 1 loop each)\n"
     ]
    }
   ],
   "source": [
    "%timeit search_lightcurve('KIC 10080943', mission='KEPLER')#.to_pandas()\n"
   ]
  },
  {
   "cell_type": "code",
   "execution_count": 176,
   "id": "ea8e101b-8300-4d27-bc7e-d97b067409a7",
   "metadata": {},
   "outputs": [
    {
     "name": "stdout",
     "output_type": "stream",
     "text": [
      "859 ns ± 2.53 ns per loop (mean ± std. dev. of 7 runs, 1,000,000 loops each)\n"
     ]
    }
   ],
   "source": [
    "%timeit lk.search_lightcurve('TIC 63294105', mission='TESS')"
   ]
  },
  {
   "cell_type": "code",
   "execution_count": 172,
   "id": "cd36ce78-2f3b-43f4-bc54-43f732296b8e",
   "metadata": {},
   "outputs": [
    {
     "data": {
      "text/html": [
       "SearchResult containing 18 data products.\n",
       "\n",
       "<table id=\"table5854012896\">\n",
       "<thead><tr><th>#</th><th>mission</th><th>year</th><th>author</th><th>exptime</th><th>target_name</th><th>distance</th></tr></thead>\n",
       "<thead><tr><th></th><th></th><th></th><th></th><th>s</th><th></th><th>arcsec</th></tr></thead>\n",
       "<tr><td>0</td><td>Kepler Quarter 00</td><td>2009</td><td><a href='https://archive.stsci.edu/kepler/data_products.html'>Kepler</a></td><td>1800</td><td>kplr010080943</td><td>0.0</td></tr>\n",
       "<tr><td>1</td><td>Kepler Quarter 01</td><td>2009</td><td><a href='https://archive.stsci.edu/kepler/data_products.html'>Kepler</a></td><td>1800</td><td>kplr010080943</td><td>0.0</td></tr>\n",
       "<tr><td>2</td><td>Kepler Quarter 02</td><td>2009</td><td><a href='https://archive.stsci.edu/kepler/data_products.html'>Kepler</a></td><td>1800</td><td>kplr010080943</td><td>0.0</td></tr>\n",
       "<tr><td>3</td><td>Kepler Quarter 03</td><td>2009</td><td><a href='https://archive.stsci.edu/kepler/data_products.html'>Kepler</a></td><td>1800</td><td>kplr010080943</td><td>0.0</td></tr>\n",
       "<tr><td>4</td><td>Kepler Quarter 04</td><td>2010</td><td><a href='https://archive.stsci.edu/kepler/data_products.html'>Kepler</a></td><td>1800</td><td>kplr010080943</td><td>0.0</td></tr>\n",
       "<tr><td>5</td><td>Kepler Quarter 05</td><td>2010</td><td><a href='https://archive.stsci.edu/kepler/data_products.html'>Kepler</a></td><td>1800</td><td>kplr010080943</td><td>0.0</td></tr>\n",
       "<tr><td>6</td><td>Kepler Quarter 06</td><td>2010</td><td><a href='https://archive.stsci.edu/kepler/data_products.html'>Kepler</a></td><td>1800</td><td>kplr010080943</td><td>0.0</td></tr>\n",
       "<tr><td>...</td><td>...</td><td>...</td><td>...</td><td>...</td><td>...</td><td>...</td></tr>\n",
       "<tr><td>11</td><td>Kepler Quarter 11</td><td>2012</td><td><a href='https://archive.stsci.edu/kepler/data_products.html'>Kepler</a></td><td>1800</td><td>kplr010080943</td><td>0.0</td></tr>\n",
       "<tr><td>12</td><td>Kepler Quarter 12</td><td>2012</td><td><a href='https://archive.stsci.edu/kepler/data_products.html'>Kepler</a></td><td>1800</td><td>kplr010080943</td><td>0.0</td></tr>\n",
       "<tr><td>13</td><td>Kepler Quarter 13</td><td>2012</td><td><a href='https://archive.stsci.edu/kepler/data_products.html'>Kepler</a></td><td>1800</td><td>kplr010080943</td><td>0.0</td></tr>\n",
       "<tr><td>14</td><td>Kepler Quarter 14</td><td>2012</td><td><a href='https://archive.stsci.edu/kepler/data_products.html'>Kepler</a></td><td>1800</td><td>kplr010080943</td><td>0.0</td></tr>\n",
       "<tr><td>15</td><td>Kepler Quarter 15</td><td>2013</td><td><a href='https://archive.stsci.edu/kepler/data_products.html'>Kepler</a></td><td>1800</td><td>kplr010080943</td><td>0.0</td></tr>\n",
       "<tr><td>16</td><td>Kepler Quarter 16</td><td>2013</td><td><a href='https://archive.stsci.edu/kepler/data_products.html'>Kepler</a></td><td>1800</td><td>kplr010080943</td><td>0.0</td></tr>\n",
       "<tr><td>17</td><td>Kepler Quarter 17</td><td>2013</td><td><a href='https://archive.stsci.edu/kepler/data_products.html'>Kepler</a></td><td>1800</td><td>kplr010080943</td><td>0.0</td></tr>\n",
       "</table>\n",
       "Length = 18 rows"
      ],
      "text/plain": [
       "SearchResult containing 18 data products.\n",
       "\n",
       " #       mission      year author exptime  target_name  distance\n",
       "                                     s                   arcsec \n",
       "--- ----------------- ---- ------ ------- ------------- --------\n",
       "  0 Kepler Quarter 00 2009 Kepler    1800 kplr010080943      0.0\n",
       "  1 Kepler Quarter 01 2009 Kepler    1800 kplr010080943      0.0\n",
       "  2 Kepler Quarter 02 2009 Kepler    1800 kplr010080943      0.0\n",
       "  3 Kepler Quarter 03 2009 Kepler    1800 kplr010080943      0.0\n",
       "  4 Kepler Quarter 04 2010 Kepler    1800 kplr010080943      0.0\n",
       "  5 Kepler Quarter 05 2010 Kepler    1800 kplr010080943      0.0\n",
       "  6 Kepler Quarter 06 2010 Kepler    1800 kplr010080943      0.0\n",
       "...               ...  ...    ...     ...           ...      ...\n",
       " 11 Kepler Quarter 11 2012 Kepler    1800 kplr010080943      0.0\n",
       " 12 Kepler Quarter 12 2012 Kepler    1800 kplr010080943      0.0\n",
       " 13 Kepler Quarter 13 2012 Kepler    1800 kplr010080943      0.0\n",
       " 14 Kepler Quarter 14 2012 Kepler    1800 kplr010080943      0.0\n",
       " 15 Kepler Quarter 15 2013 Kepler    1800 kplr010080943      0.0\n",
       " 16 Kepler Quarter 16 2013 Kepler    1800 kplr010080943      0.0\n",
       " 17 Kepler Quarter 17 2013 Kepler    1800 kplr010080943      0.0\n",
       "Length = 18 rows"
      ]
     },
     "execution_count": 172,
     "metadata": {},
     "output_type": "execute_result"
    }
   ],
   "source": [
    "lk.search_lightcurve('KIC 10080943', mission='Kepler')"
   ]
  },
  {
   "cell_type": "code",
   "execution_count": 153,
   "id": "3e70a3e2-6e50-409b-87d6-4c9322b077ab",
   "metadata": {},
   "outputs": [],
   "source": [
    "import lightkurve as lk"
   ]
  },
  {
   "cell_type": "code",
   "execution_count": 83,
   "id": "e9fbbad0-bf0b-43a3-bf24-ed8959a8c277",
   "metadata": {},
   "outputs": [
    {
     "data": {
      "text/html": [
       "<div><i>Table masked=True length=60</i>\n",
       "<table id=\"table5757187696\" class=\"table-striped table-bordered table-condensed\">\n",
       "<thead><tr><th>obsID</th><th>obs_collection</th><th>dataproduct_type</th><th>obs_id</th><th>description</th><th>type</th><th>dataURI</th><th>productType</th><th>productGroupDescription</th><th>productSubGroupDescription</th><th>productDocumentationURL</th><th>project</th><th>prvversion</th><th>proposal_id</th><th>productFilename</th><th>size</th><th>parent_obsid</th><th>dataRights</th><th>calib_level</th></tr></thead>\n",
       "<thead><tr><th>str6</th><th>str6</th><th>str10</th><th>str36</th><th>str60</th><th>str1</th><th>str110</th><th>str9</th><th>str28</th><th>str8</th><th>str1</th><th>str6</th><th>str1</th><th>str2</th><th>str44</th><th>int64</th><th>str6</th><th>str6</th><th>int64</th></tr></thead>\n",
       "<tr><td>531531</td><td>Kepler</td><td>timeseries</td><td>kplr009651065_lc_Q111111111111111111</td><td>Data Validation summary report</td><td>C</td><td>mast:KEPLER/url/missions/kepler/dv_files/0096/009651065/kplr009651065-01-20160209194854_dvs.pdf</td><td>AUXILIARY</td><td>--</td><td>--</td><td>--</td><td>Kepler</td><td>--</td><td>EX</td><td>kplr009651065-01-20160209194854_dvs.pdf</td><td>6134414</td><td>531531</td><td>PUBLIC</td><td>2</td></tr>\n",
       "<tr><td>531531</td><td>Kepler</td><td>timeseries</td><td>kplr009651065_lc_Q111111111111111111</td><td>Data Validation time series</td><td>C</td><td>mast:KEPLER/url/missions/kepler/dv_files/0096/009651065/kplr009651065-20160128150956_dvt.fits</td><td>AUXILIARY</td><td>--</td><td>--</td><td>--</td><td>Kepler</td><td>--</td><td>EX</td><td>kplr009651065-20160128150956_dvt.fits</td><td>17752320</td><td>531531</td><td>PUBLIC</td><td>2</td></tr>\n",
       "<tr><td>531531</td><td>Kepler</td><td>timeseries</td><td>kplr009651065_lc_Q111111111111111111</td><td>Data Validation full report</td><td>C</td><td>mast:KEPLER/url/missions/kepler/dv_files/0096/009651065/kplr009651065-20160209194854_dvr.pdf</td><td>AUXILIARY</td><td>Minimum Recommended Products</td><td>--</td><td>--</td><td>Kepler</td><td>--</td><td>EX</td><td>kplr009651065-20160209194854_dvr.pdf</td><td>8115293</td><td>531531</td><td>PUBLIC</td><td>2</td></tr>\n",
       "<tr><td>531531</td><td>Kepler</td><td>timeseries</td><td>kplr009651065_lc_Q111111111111111111</td><td>Transit Crossing Event Review Team (TCERT) report</td><td>C</td><td>mast:KEPLER/url/missions/kepler/dv_files/0096/009651065/kplr009651065_q1_q17_dr25_obs_tcert.pdf</td><td>AUXILIARY</td><td>Minimum Recommended Products</td><td>--</td><td>--</td><td>Kepler</td><td>--</td><td>EX</td><td>kplr009651065_q1_q17_dr25_obs_tcert.pdf</td><td>3446319</td><td>531531</td><td>PUBLIC</td><td>2</td></tr>\n",
       "<tr><td>531531</td><td>Kepler</td><td>timeseries</td><td>kplr009651065_lc_Q111111111111111111</td><td>Preview-Full</td><td>C</td><td>mast:KEPLER/url/missions/kepler/previews/0096/009651065/kplr009651065-2013098041711_llc_bw_large.png</td><td>PREVIEW</td><td>--</td><td>--</td><td>--</td><td>Kepler</td><td>--</td><td>EX</td><td>kplr009651065-2013098041711_llc_bw_large.png</td><td>27377</td><td>531531</td><td>PUBLIC</td><td>2</td></tr>\n",
       "<tr><td>531531</td><td>Kepler</td><td>timeseries</td><td>kplr009651065_lc_Q111111111111111111</td><td>tar file for Target Pixel Long Cadence (TPL) - all quarters</td><td>C</td><td>mast:KEPLER/url/missions/kepler/target_pixel_files/0096/009651065/kplr009651065_tpf_lc_Q111111111111111111.tar</td><td>SCIENCE</td><td>--</td><td>--</td><td>--</td><td>Kepler</td><td>--</td><td>EX</td><td>kplr009651065_tpf_lc_Q111111111111111111.tar</td><td>50268160</td><td>531531</td><td>PUBLIC</td><td>2</td></tr>\n",
       "<tr><td>531531</td><td>Kepler</td><td>timeseries</td><td>kplr009651065_lc_Q111111111111111111</td><td>tar file for Lightcurves Long Cadence (CLC) - all quarters</td><td>C</td><td>mast:KEPLER/url/missions/kepler/lightcurves/0096/009651065/kplr009651065_lc_Q111111111111111111.tar</td><td>SCIENCE</td><td>Minimum Recommended Products</td><td>--</td><td>--</td><td>Kepler</td><td>--</td><td>EX</td><td>kplr009651065_lc_Q111111111111111111.tar</td><td>7536640</td><td>531531</td><td>PUBLIC</td><td>2</td></tr>\n",
       "<tr><td>...</td><td>...</td><td>...</td><td>...</td><td>...</td><td>...</td><td>...</td><td>...</td><td>...</td><td>...</td><td>...</td><td>...</td><td>...</td><td>...</td><td>...</td><td>...</td><td>...</td><td>...</td><td>...</td></tr>\n",
       "<tr><td>599627</td><td>Kepler</td><td>timeseries</td><td>kplr009651065_sc_Q010003030000000000</td><td>Target Pixel Short Cadence (TPS) - Q1</td><td>C</td><td>mast:KEPLER/url/missions/kepler/target_pixel_files/0096/009651065/kplr009651065-2009166044711_spd-targ.fits.gz</td><td>SCIENCE</td><td>Minimum Recommended Products</td><td>SPD-TARG</td><td>--</td><td>Kepler</td><td>--</td><td>EX</td><td>kplr009651065-2009166044711_spd-targ.fits.gz</td><td>31968126</td><td>599627</td><td>PUBLIC</td><td>2</td></tr>\n",
       "<tr><td>599627</td><td>Kepler</td><td>timeseries</td><td>kplr009651065_sc_Q010003030000000000</td><td>Target Pixel Short Cadence (TPS) - Q5</td><td>C</td><td>mast:KEPLER/url/missions/kepler/target_pixel_files/0096/009651065/kplr009651065-2010111051353_spd-targ.fits.gz</td><td>SCIENCE</td><td>Minimum Recommended Products</td><td>SPD-TARG</td><td>--</td><td>Kepler</td><td>--</td><td>EX</td><td>kplr009651065-2010111051353_spd-targ.fits.gz</td><td>29988457</td><td>599627</td><td>PUBLIC</td><td>2</td></tr>\n",
       "<tr><td>599627</td><td>Kepler</td><td>timeseries</td><td>kplr009651065_sc_Q010003030000000000</td><td>Target Pixel Short Cadence (TPS) - Q5</td><td>C</td><td>mast:KEPLER/url/missions/kepler/target_pixel_files/0096/009651065/kplr009651065-2010140023957_spd-targ.fits.gz</td><td>SCIENCE</td><td>Minimum Recommended Products</td><td>SPD-TARG</td><td>--</td><td>Kepler</td><td>--</td><td>EX</td><td>kplr009651065-2010140023957_spd-targ.fits.gz</td><td>26274876</td><td>599627</td><td>PUBLIC</td><td>2</td></tr>\n",
       "<tr><td>599627</td><td>Kepler</td><td>timeseries</td><td>kplr009651065_sc_Q010003030000000000</td><td>Target Pixel Short Cadence (TPS) - Q5</td><td>C</td><td>mast:KEPLER/url/missions/kepler/target_pixel_files/0096/009651065/kplr009651065-2010174090439_spd-targ.fits.gz</td><td>SCIENCE</td><td>Minimum Recommended Products</td><td>SPD-TARG</td><td>--</td><td>Kepler</td><td>--</td><td>EX</td><td>kplr009651065-2010174090439_spd-targ.fits.gz</td><td>32041402</td><td>599627</td><td>PUBLIC</td><td>2</td></tr>\n",
       "<tr><td>599627</td><td>Kepler</td><td>timeseries</td><td>kplr009651065_sc_Q010003030000000000</td><td>Target Pixel Short Cadence (TPS) - Q7</td><td>C</td><td>mast:KEPLER/url/missions/kepler/target_pixel_files/0096/009651065/kplr009651065-2010296114515_spd-targ.fits.gz</td><td>SCIENCE</td><td>Minimum Recommended Products</td><td>SPD-TARG</td><td>--</td><td>Kepler</td><td>--</td><td>EX</td><td>kplr009651065-2010296114515_spd-targ.fits.gz</td><td>31157355</td><td>599627</td><td>PUBLIC</td><td>2</td></tr>\n",
       "<tr><td>599627</td><td>Kepler</td><td>timeseries</td><td>kplr009651065_sc_Q010003030000000000</td><td>Target Pixel Short Cadence (TPS) - Q7</td><td>C</td><td>mast:KEPLER/url/missions/kepler/target_pixel_files/0096/009651065/kplr009651065-2010326094124_spd-targ.fits.gz</td><td>SCIENCE</td><td>Minimum Recommended Products</td><td>SPD-TARG</td><td>--</td><td>Kepler</td><td>--</td><td>EX</td><td>kplr009651065-2010326094124_spd-targ.fits.gz</td><td>30244301</td><td>599627</td><td>PUBLIC</td><td>2</td></tr>\n",
       "<tr><td>599627</td><td>Kepler</td><td>timeseries</td><td>kplr009651065_sc_Q010003030000000000</td><td>Target Pixel Short Cadence (TPS) - Q7</td><td>C</td><td>mast:KEPLER/url/missions/kepler/target_pixel_files/0096/009651065/kplr009651065-2010355172524_spd-targ.fits.gz</td><td>SCIENCE</td><td>Minimum Recommended Products</td><td>SPD-TARG</td><td>--</td><td>Kepler</td><td>--</td><td>EX</td><td>kplr009651065-2010355172524_spd-targ.fits.gz</td><td>29331501</td><td>599627</td><td>PUBLIC</td><td>2</td></tr>\n",
       "</table></div>"
      ],
      "text/plain": [
       "<Table masked=True length=60>\n",
       "obsID  obs_collection dataproduct_type ... parent_obsid dataRights calib_level\n",
       " str6       str6           str10       ...     str6        str6       int64   \n",
       "------ -------------- ---------------- ... ------------ ---------- -----------\n",
       "531531         Kepler       timeseries ...       531531     PUBLIC           2\n",
       "531531         Kepler       timeseries ...       531531     PUBLIC           2\n",
       "531531         Kepler       timeseries ...       531531     PUBLIC           2\n",
       "531531         Kepler       timeseries ...       531531     PUBLIC           2\n",
       "531531         Kepler       timeseries ...       531531     PUBLIC           2\n",
       "531531         Kepler       timeseries ...       531531     PUBLIC           2\n",
       "531531         Kepler       timeseries ...       531531     PUBLIC           2\n",
       "   ...            ...              ... ...          ...        ...         ...\n",
       "599627         Kepler       timeseries ...       599627     PUBLIC           2\n",
       "599627         Kepler       timeseries ...       599627     PUBLIC           2\n",
       "599627         Kepler       timeseries ...       599627     PUBLIC           2\n",
       "599627         Kepler       timeseries ...       599627     PUBLIC           2\n",
       "599627         Kepler       timeseries ...       599627     PUBLIC           2\n",
       "599627         Kepler       timeseries ...       599627     PUBLIC           2\n",
       "599627         Kepler       timeseries ...       599627     PUBLIC           2"
      ]
     },
     "execution_count": 83,
     "metadata": {},
     "output_type": "execute_result"
    }
   ],
   "source": [
    "# Return only the calibrated FFIs (.ffic.fits)\n",
    "Observations.filter_products(products, \n",
    "                                        dataproduct_type=\"timeseries\")"
   ]
  },
  {
   "cell_type": "code",
   "execution_count": 84,
   "id": "3bfcc775-6e43-4ed2-9660-c43ab7da989f",
   "metadata": {},
   "outputs": [
    {
     "data": {
      "text/plain": [
       "<TableColumns names=('obsID','obs_collection','dataproduct_type','obs_id','description','type','dataURI','productType','productGroupDescription','productSubGroupDescription','productDocumentationURL','project','prvversion','proposal_id','productFilename','size','parent_obsid','dataRights','calib_level')>"
      ]
     },
     "execution_count": 84,
     "metadata": {},
     "output_type": "execute_result"
    }
   ],
   "source": [
    "products.columns"
   ]
  },
  {
   "cell_type": "code",
   "execution_count": null,
   "id": "cbf9048c-14fc-4298-9107-c1097fb98955",
   "metadata": {},
   "outputs": [],
   "source": []
  }
 ],
 "metadata": {
  "kernelspec": {
   "display_name": "Python 3 (ipykernel)",
   "language": "python",
   "name": "python3"
  },
  "language_info": {
   "codemirror_mode": {
    "name": "ipython",
    "version": 3
   },
   "file_extension": ".py",
   "mimetype": "text/x-python",
   "name": "python",
   "nbconvert_exporter": "python",
   "pygments_lexer": "ipython3",
   "version": "3.9.12"
  }
 },
 "nbformat": 4,
 "nbformat_minor": 5
}
